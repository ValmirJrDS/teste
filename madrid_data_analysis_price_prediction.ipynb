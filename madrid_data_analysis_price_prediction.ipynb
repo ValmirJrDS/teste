{
  "metadata": {
    "kernelspec": {
      "language": "python",
      "display_name": "Python 3",
      "name": "python3"
    },
    "language_info": {
      "name": "python",
      "version": "3.7.6",
      "mimetype": "text/x-python",
      "codemirror_mode": {
        "name": "ipython",
        "version": 3
      },
      "pygments_lexer": "ipython3",
      "nbconvert_exporter": "python",
      "file_extension": ".py"
    },
    "colab": {
      "name": "madrid-data-analysis-price-prediction.ipynb",
      "provenance": [],
      "include_colab_link": true
    }
  },
  "nbformat_minor": 0,
  "nbformat": 4,
  "cells": [
    {
      "cell_type": "markdown",
      "metadata": {
        "id": "view-in-github",
        "colab_type": "text"
      },
      "source": [
        "<a href=\"https://colab.research.google.com/github/ValmirJrDS/teste/blob/main/madrid_data_analysis_price_prediction.ipynb\" target=\"_parent\"><img src=\"https://colab.research.google.com/assets/colab-badge.svg\" alt=\"Open In Colab\"/></a>"
      ]
    },
    {
      "cell_type": "markdown",
      "source": [
        "<h1 style=\"background-color:skyblue;font-family:sans-serif;font-size:320%;text-align:center\">Madrid: Data Analysis and Price Prediction</h1>"
      ],
      "metadata": {
        "id": "dcFgmKT9Qjfy"
      }
    },
    {
      "cell_type": "code",
      "source": [
        "from IPython.display import Image\n",
        "import os\n",
        "Image(\"../input/madridairbnbdata/Madrid.jpg\")"
      ],
      "metadata": {
        "_kg_hide-input": true,
        "trusted": true,
        "id": "Oviy4T6mQjf4"
      },
      "execution_count": null,
      "outputs": []
    },
    {
      "cell_type": "markdown",
      "source": [
        "<h2 style=\"font-family:Circular,sans-serif;font-size:300%;text-align:center\">Table Of Content</h2>\n",
        "\n",
        "* [1. First Steps](#1)\n",
        "    * [1.1 Libraries](#1.1)\n",
        "    * [1.2 Data Exploration](#1.2)\n",
        "* [2. Data Analysis](#2)\n",
        "    * [2.1 Price per Room Type](#2.1)\n",
        "    * [2.2 Room Type Distribution over Districts](#2.2)\n",
        "    * [2.3 Influence of Reviews on the Price](#2.3)\n",
        "* [3. Data Preprocessing](#3)    \n",
        "* [4. Model](#4) "
      ],
      "metadata": {
        "id": "BT1G0B8XQjf6"
      }
    },
    {
      "cell_type": "code",
      "source": [
        ""
      ],
      "metadata": {
        "id": "PcccOcrwQjf7"
      },
      "execution_count": null,
      "outputs": []
    },
    {
      "cell_type": "code",
      "source": [
        ""
      ],
      "metadata": {
        "id": "1_PGR1XWQjf8"
      },
      "execution_count": null,
      "outputs": []
    },
    {
      "cell_type": "markdown",
      "source": [
        ""
      ],
      "metadata": {
        "id": "m9jO5IDbQjf8"
      }
    },
    {
      "cell_type": "markdown",
      "source": [
        "<a id=\"1\"></a>\n",
        "<h2 style=\"background-color:skyblue;font-family:sans-serif;font-size:300%;text-align:center\">First Steps</h2>"
      ],
      "metadata": {
        "id": "nMUrYFo0Qjf9"
      }
    },
    {
      "cell_type": "markdown",
      "source": [
        "<a id=\"1.1\"></a>\n",
        "<h2 style=\"background-color:skyblue;font-family:sans-serif;font-size:230%;text-align:center\">Libraries</h2>"
      ],
      "metadata": {
        "id": "L9D2bMwRQjf-"
      }
    },
    {
      "cell_type": "code",
      "source": [
        "import numpy as np \n",
        "import pandas as pd \n",
        "import seaborn as sns\n",
        "import matplotlib.pyplot as plt\n",
        "\n",
        "from datetime import datetime\n",
        "from scipy import stats\n",
        "from sklearn.preprocessing import PowerTransformer\n",
        "from sklearn.model_selection import train_test_split, GridSearchCV, KFold\n",
        "from sklearn.linear_model import Ridge, Lasso\n",
        "from sklearn.ensemble import RandomForestRegressor\n",
        "from sklearn.metrics import r2_score, mean_squared_error\n",
        "\n",
        "\n",
        "# Input data files are available in the read-only \"../input/\" directory\n",
        "# For example, running this (by clicking run or pressing Shift+Enter) will list all files under the input directory\n",
        "\n",
        "import os\n",
        "for dirname, _, filenames in os.walk('/kaggle/input'):\n",
        "    for filename in filenames:\n",
        "        print(os.path.join(dirname, filename))\n",
        "\n",
        "# You can write up to 20GB to the current directory (/kaggle/working/) that gets preserved as output when you create a version using \"Save & Run All\" \n",
        "# You can also write temporary files to /kaggle/temp/, but they won't be saved outside of the current session"
      ],
      "metadata": {
        "_uuid": "8f2839f25d086af736a60e9eeb907d3b93b6e0e5",
        "_cell_guid": "b1076dfc-b9ad-4769-8c92-a6c4dae69d19",
        "trusted": true,
        "id": "RdHXuUl8Qjf_"
      },
      "execution_count": null,
      "outputs": []
    },
    {
      "cell_type": "code",
      "source": [
        "listings = pd.read_csv(\"/kaggle/input/madrid-airbnb-data/listings.csv\")"
      ],
      "metadata": {
        "_uuid": "d629ff2d2480ee46fbb7e2d37f6b5fab8052498a",
        "_cell_guid": "79c7e3d0-c299-4dcb-8224-4455121ee9b0",
        "trusted": true,
        "id": "LJig6Gi-QjgA"
      },
      "execution_count": null,
      "outputs": []
    },
    {
      "cell_type": "markdown",
      "source": [
        "<a id=\"1.1\"></a>\n",
        "<h3 style=\"background-color:skyblue;font-family:sans-serif;font-size:230%;text-align:center\">Data Exploration</h3>"
      ],
      "metadata": {
        "id": "tW4MLoqQQjgB"
      }
    },
    {
      "cell_type": "code",
      "source": [
        "listings.shape"
      ],
      "metadata": {
        "trusted": true,
        "id": "-Odjiw01QjgC"
      },
      "execution_count": null,
      "outputs": []
    },
    {
      "cell_type": "code",
      "source": [
        " listings.head()"
      ],
      "metadata": {
        "trusted": true,
        "id": "5BD6w71ZQjgD"
      },
      "execution_count": null,
      "outputs": []
    },
    {
      "cell_type": "code",
      "source": [
        "listings.describe()"
      ],
      "metadata": {
        "trusted": true,
        "id": "9sppOAvkQjgD"
      },
      "execution_count": null,
      "outputs": []
    },
    {
      "cell_type": "code",
      "source": [
        "listings.info()"
      ],
      "metadata": {
        "trusted": true,
        "id": "D6_j_nhhQjgE"
      },
      "execution_count": null,
      "outputs": []
    },
    {
      "cell_type": "raw",
      "source": [
        "Conlusions: \n",
        "1. There is almost no missing data. Only the name, host_name, last_review, reviews_per_month (probably because there was no first review yet) are not completely filled. I will limit myself to the number_of_reviews and reviews_per_month columns and delete the last_review column. For reviews_per_month I will check if my assumption is correct, that missing values mean,that there is no review. Since I do not need the name columns, I will delete them.\n",
        "\n",
        "2. There are still some remaining columns filled with objects (neighbourhood_group, neighbourhood and room type). I will keep the room type because of its importance and edit it for modeling."
      ],
      "metadata": {
        "id": "0iSamy62QjgE"
      }
    },
    {
      "cell_type": "code",
      "source": [
        "# Is missing data in reviews_per_month \n",
        "# connected with a number_of_reviews of null?\n",
        "\n",
        "sum(listings.number_of_reviews[listings.reviews_per_month == None])\n",
        "\n",
        "# conlusion: yes"
      ],
      "metadata": {
        "trusted": true,
        "id": "hO39BFkAQjgF"
      },
      "execution_count": null,
      "outputs": []
    },
    {
      "cell_type": "code",
      "source": [
        "# Are there any duplicates in the data?\n",
        "\n",
        "listings.duplicated().sum()\n",
        "\n",
        "# conclusion: No"
      ],
      "metadata": {
        "trusted": true,
        "id": "yKG4_60HQjgF"
      },
      "execution_count": null,
      "outputs": []
    },
    {
      "cell_type": "code",
      "source": [
        "# Check if the price in the data is a price per night or a price per visit\n",
        "\n",
        "price_per_minimum_nights = listings.groupby([\"minimum_nights\"]).mean().price\n",
        "price_per_minimum_nights.plot(kind=\"line\", color=\"indigo\")\n",
        "plt.ylabel(\"Price\")\n",
        "plt.title(\"Are Prices per Night or per Visit?\")\n",
        "\n",
        "# Conclusion: The price seems to be per night"
      ],
      "metadata": {
        "trusted": true,
        "id": "KmuMDjC_QjgG"
      },
      "execution_count": null,
      "outputs": []
    },
    {
      "cell_type": "code",
      "source": [
        "# Take a look at the distributions\n",
        "def distribution_plot(col, boundaries=(0, 100), data_type=\"numeric\", rot=0):\n",
        "    \"\"\"\n",
        "    Description: Plots a histogram in order to see the distribution of the feature. \n",
        "    \n",
        "    Arguments:\n",
        "        col: column of a dataframe\n",
        "        boundaries: range that should be plotted\n",
        "        data_type: string with the information, if the data is numeric or not\n",
        "        rot: rotation of the labels in the plot\n",
        "    \n",
        "    Returns:\n",
        "       A distribution plot\n",
        "    \"\"\"\n",
        "    \n",
        "    plt.figure(figsize=(4,2))\n",
        "    if data_type == \"numeric\":\n",
        "        listings[col].hist(range=boundaries, bins=20, color=\"purple\", edgecolor=\"indigo\", \n",
        "                       linewidth=1)\n",
        "    else:\n",
        "        sns.countplot(listings[col], palette=\"plasma\")\n",
        "        \n",
        "    plt.grid(False)\n",
        "    plt.xlabel(col)\n",
        "    plt.ylabel(\"Count\")\n",
        "    plt.title(\"Distribution of the \" + col)\n",
        "    plt.xticks(rotation=rot)\n",
        "    plt.show()\n",
        "\n",
        "\n",
        "\n",
        "distribution_plot(\"price\", boundaries=(0, 500))\n",
        "distribution_plot(\"minimum_nights\", boundaries=(0, 35))\n",
        "distribution_plot(\"number_of_reviews\", boundaries=(0, 100))\n",
        "distribution_plot(\"reviews_per_month\", boundaries=(0, 10))\n",
        "distribution_plot(\"calculated_host_listings_count\", boundaries=(0, 20))\n",
        "distribution_plot(\"availability_365\", boundaries=(0, 365))\n",
        "distribution_plot(\"neighbourhood_group\", data_type=\"not numeric\", rot=90)\n",
        "distribution_plot(\"room_type\", data_type=\"not numeric\", rot=90)"
      ],
      "metadata": {
        "trusted": true,
        "id": "UJ5NVpWXQjgG"
      },
      "execution_count": null,
      "outputs": []
    },
    {
      "cell_type": "markdown",
      "source": [
        "<a id=\"1.1\"></a>\n",
        "<h2 style=\"background-color:skyblue;font-family:sans-serif;font-size:300%;text-align:center\">Data Analysis</h2>"
      ],
      "metadata": {
        "id": "64ez9DveQjgH"
      }
    },
    {
      "cell_type": "markdown",
      "source": [
        "Before (further) preprocessing the data for modeling, we can already execute a data analysis."
      ],
      "metadata": {
        "id": "eu4Vb_5yQjgH"
      }
    },
    {
      "cell_type": "markdown",
      "source": [
        "<a id=\"1.1\"></a>\n",
        "<h3 style=\"background-color:skyblue;font-family:sans-serif;font-size:230%;text-align:center\">Price per Room Type</h3>"
      ],
      "metadata": {
        "id": "FuZNaiFeQjgI"
      }
    },
    {
      "cell_type": "code",
      "source": [
        "#For which room type can I take which price?\n",
        "price_per_room_type = listings.groupby([\"room_type\"]).mean().price \n",
        "price_per_room_type.sort_values(ascending=False)"
      ],
      "metadata": {
        "trusted": true,
        "id": "wa2Jm22xQjgI"
      },
      "execution_count": null,
      "outputs": []
    },
    {
      "cell_type": "code",
      "source": [
        "plt.figure(figsize=(8,5))\n",
        "price_per_room_type.plot(kind=\"bar\", color=[\"indigo\", \"purple\", \"lightsalmon\", \"peachpuff\"]);\n",
        "plt.ylabel(\"mean price\")\n",
        "plt.title(\"Which price can I take for my room type?\")"
      ],
      "metadata": {
        "trusted": true,
        "id": "OIefgB0JQjgJ"
      },
      "execution_count": null,
      "outputs": []
    },
    {
      "cell_type": "markdown",
      "source": [
        "<a id=\"1.1\"></a>\n",
        "<h3 style=\"background-color:skyblue;font-family:sans-serif;font-size:230%;text-align:center\">Room Type Distribution over Districts</h3>"
      ],
      "metadata": {
        "id": "k-BIXDtAQjgJ"
      }
    },
    {
      "cell_type": "code",
      "source": [
        "# Is there a gap in the market for a room_type in any district\n",
        "\n",
        "plt.figure(figsize=(8,5))\n",
        "sns.scatterplot(listings.longitude, listings.latitude, hue=listings.room_type, \n",
        "                palette=\"CMRmap\")\n",
        "\n",
        "# The whole city seems to be well covered.\n",
        "# There are fewer private rooms in the center than in the outer parts.\n",
        "# Shared rooms and hotel rooms are not very common. This could correspond to a lower demand. "
      ],
      "metadata": {
        "trusted": true,
        "id": "I4iitWxIQjgJ"
      },
      "execution_count": null,
      "outputs": []
    },
    {
      "cell_type": "markdown",
      "source": [
        "<a id=\"1.1\"></a>\n",
        "<h3 style=\"background-color:skyblue;font-family:sans-serif;font-size:230%;text-align:center\">Influence of Reviews on the Price</h3>"
      ],
      "metadata": {
        "id": "H97pM-vVQjgK"
      }
    },
    {
      "cell_type": "code",
      "source": [
        "# Can flats with at least one review take higher prices?\n",
        "price_per_number_of_reviews = listings.groupby([\"number_of_reviews\"]).mean().price\n",
        "price_per_number_of_reviews.sort_values(ascending=False)\n",
        "\n",
        "# Answer: They surprisingly do not.\n",
        "# Possible reason 1: Cheaper apartments are booked more often and therefore get more reviews.\n",
        "# Possible reason 2: Apartments with more reviews are older (older furniture) \n",
        "#                    and therefore less attractive.\n",
        "# Possible reason 3: Rewiews must not always be good. Former guests could have complained."
      ],
      "metadata": {
        "trusted": true,
        "id": "PCspMwYJQjgK"
      },
      "execution_count": null,
      "outputs": []
    },
    {
      "cell_type": "code",
      "source": [
        "plt.figure(figsize=(8,5))\n",
        "price_per_number_of_reviews.plot(kind=\"line\", color=\"indigo\")\n",
        "plt.title(\"Lead More Reviews to Higher Prices?\")\n",
        "plt.ylabel(\"Price\")\n"
      ],
      "metadata": {
        "trusted": true,
        "id": "gkhVMqfnQjgK"
      },
      "execution_count": null,
      "outputs": []
    },
    {
      "cell_type": "markdown",
      "source": [
        "<a id=\"1.1\"></a>\n",
        "<h2 style=\"background-color:skyblue;font-family:sans-serif;font-size:300%;text-align:center\">Data Preprocessing</h2>"
      ],
      "metadata": {
        "id": "29bGknMHQjgK"
      }
    },
    {
      "cell_type": "code",
      "source": [
        "# Create a new column that counts the days since the last review\n",
        "# Missing values mean that there has not been a review yet. They receive a high number.\n",
        "\n",
        "listings[\"last_review\"] = listings[\"last_review\"].fillna(\"2015-01-01\")\n",
        "listings[\"last_review\"] = pd.to_datetime(listings[\"last_review\"])\n",
        "listings[\"days_since_last_review\"] = (datetime.now() - listings[\"last_review\"]).dt.days"
      ],
      "metadata": {
        "trusted": true,
        "id": "UFuL3U-yQjgL"
      },
      "execution_count": null,
      "outputs": []
    },
    {
      "cell_type": "code",
      "source": [
        "# Distribution of the days_since_last_review \n",
        "# The right bin represents listings without any review\n",
        "\n",
        "plt.figure(figsize=(8,5))\n",
        "listings[\"days_since_last_review\"].hist(range=(400,2300), bins=20, color=\"purple\",\n",
        "                                        edgecolor=\"indigo\", linewidth=1)\n",
        "plt.grid(False)\n",
        "plt.xlabel(\"Days since last Review\")\n",
        "plt.ylabel(\"Count\")\n",
        "plt.title(\"Distribution of the Days since the last Review\")"
      ],
      "metadata": {
        "trusted": true,
        "id": "BW1EGQa2QjgL"
      },
      "execution_count": null,
      "outputs": []
    },
    {
      "cell_type": "code",
      "source": [
        "# Fill missing values in reviews_per_month\n",
        "listings[\"reviews_per_month\"] = listings[\"reviews_per_month\"].fillna(0)"
      ],
      "metadata": {
        "trusted": true,
        "id": "DtAkZr6wQjgL"
      },
      "execution_count": null,
      "outputs": []
    },
    {
      "cell_type": "code",
      "source": [
        "# Delete columns we do not need:\n",
        "listings_slim = listings.drop([\"id\", \"name\", \"host_name\", \"last_review\", \"neighbourhood_group\", \"neighbourhood\"], axis=1)\n",
        "\n",
        "# With latitude and longitude we still have location information in the data.  \n",
        "# ID would be a relatively important feature in the model. Nevertheless I drop it, because\n",
        "# there is no solid reason for this."
      ],
      "metadata": {
        "trusted": true,
        "id": "Y-5PxbinQjgL"
      },
      "execution_count": null,
      "outputs": []
    },
    {
      "cell_type": "code",
      "source": [
        "# Get rid of outliers\n",
        "\n",
        "cols = [\"price\", \"minimum_nights\", \"calculated_host_listings_count\",\n",
        "        \"reviews_per_month\", \"number_of_reviews\"]\n",
        "\n",
        "for col in cols:\n",
        "    upper_bound = listings_slim[col].quantile(0.95)\n",
        "    lower_bound = listings_slim[col].quantile(0.05)\n",
        "    listings = listings[listings[col] < upper_bound]\n",
        "    listings = listings[listings[col] > lower_bound]"
      ],
      "metadata": {
        "trusted": true,
        "id": "FDMGI5CeQjgM"
      },
      "execution_count": null,
      "outputs": []
    },
    {
      "cell_type": "code",
      "source": [
        "# Plot before transformation\n",
        "stats.probplot(listings_slim[\"price\"], plot=plt)\n",
        "\n",
        "# Power Transformer\n",
        "numeric_cols = list(listings_slim._get_numeric_data().columns)\n",
        "pt = PowerTransformer(method=\"yeo-johnson\")\n",
        "listings_slim[numeric_cols] = pt.fit_transform(listings_slim[numeric_cols])"
      ],
      "metadata": {
        "trusted": true,
        "id": "9RCcc2w_QjgM"
      },
      "execution_count": null,
      "outputs": []
    },
    {
      "cell_type": "code",
      "source": [
        "# After transformation\n",
        "stats.probplot(listings_slim[\"price\"], plot=plt)"
      ],
      "metadata": {
        "trusted": true,
        "id": "OI9X_wvsQjgM"
      },
      "execution_count": null,
      "outputs": []
    },
    {
      "cell_type": "code",
      "source": [
        "# Restructure categorial data:\n",
        "listings_preprocessed = pd.get_dummies(listings_slim,drop_first=True)\n",
        "listings_preprocessed.head()"
      ],
      "metadata": {
        "trusted": true,
        "id": "oUt5nxGpQjgN"
      },
      "execution_count": null,
      "outputs": []
    },
    {
      "cell_type": "code",
      "source": [
        "listings_preprocessed.info()"
      ],
      "metadata": {
        "trusted": true,
        "id": "uRfn7u1IQjgN"
      },
      "execution_count": null,
      "outputs": []
    },
    {
      "cell_type": "code",
      "source": [
        "plt.figure(figsize=(10,10))\n",
        "sns.heatmap(listings_preprocessed.corr(), square=True, annot=True)\n",
        "\n",
        "# Conclusion: Most of the features do not correlate strongly with the price."
      ],
      "metadata": {
        "trusted": true,
        "id": "R4xjWEWsQjgN"
      },
      "execution_count": null,
      "outputs": []
    },
    {
      "cell_type": "markdown",
      "source": [
        "<a id=\"1.1\"></a>\n",
        "<h2 style=\"background-color:skyblue;font-family:sans-serif;font-size:300%;text-align:center\">Model</h2>"
      ],
      "metadata": {
        "id": "LNVTpylpQjgN"
      }
    },
    {
      "cell_type": "code",
      "source": [
        "# Split into explanatory and response variables\n",
        "X = listings_preprocessed.drop([\"price\"], axis = 1)\n",
        "y = listings_preprocessed[\"price\"]"
      ],
      "metadata": {
        "trusted": true,
        "id": "ws0_s2nwQjgO"
      },
      "execution_count": null,
      "outputs": []
    },
    {
      "cell_type": "code",
      "source": [
        "#Split into train and test\n",
        "X_train, X_test, y_train, y_test = train_test_split(X, y, test_size=0.2, random_state=42)"
      ],
      "metadata": {
        "trusted": true,
        "id": "RVZajVSwQjgO"
      },
      "execution_count": null,
      "outputs": []
    },
    {
      "cell_type": "code",
      "source": [
        "# Cross valiation to find the best estimator and its most suitable parameters\n",
        "\n",
        "estimators = [Ridge(), Lasso(), RandomForestRegressor()]\n",
        "\n",
        "params = [{\"alpha\": [0.1, 0.5, 1, 5, 10, 20],\n",
        "           \"tol\": [0.1, 0.5, 0.9]},\n",
        "             \n",
        "          {\"alpha\": [0.1, 0.5, 1, 5, 10, 20],\n",
        "           \"max_iter\": [1000, 2000]},\n",
        "             \n",
        "          {\"max_depth\": [21, 22, 23, 24, 25], \n",
        "           \"min_samples_split\": [5, 6, 7, 8, 9, 10]}]\n",
        "    \n",
        "for estimator, param in zip(estimators, params):\n",
        "        \n",
        "    estimators_cv = GridSearchCV(estimator, param_grid=param, cv=5).fit(X_train, y_train)\n",
        "\n",
        "    print(estimators_cv .best_estimator_)\n",
        "    print(estimators_cv .best_score_)\n",
        "    print(estimators_cv .best_params_)"
      ],
      "metadata": {
        "trusted": true,
        "id": "H0faaP2mQjgO"
      },
      "execution_count": null,
      "outputs": []
    },
    {
      "cell_type": "code",
      "source": [
        "rf = RandomForestRegressor(n_estimators=500, max_depth=25, min_samples_split=5)\n",
        "rf.fit(X_train, y_train) \n",
        "\n",
        "y_pred = rf.predict(X_test)\n",
        "\n",
        "print(\"Trainscore R^2: {}\".format(rf.score(X_train, y_train))) \n",
        "print(\"Testscore R^2: {}\".format(rf.score(X_test, y_test))) \n",
        "rmse = np.sqrt(mean_squared_error(y_test,y_pred)) \n",
        "print(\"Testdata Root Mean Squared Error: {}\".format(rmse))"
      ],
      "metadata": {
        "trusted": true,
        "id": "EkdGGQRvQjgO"
      },
      "execution_count": null,
      "outputs": []
    },
    {
      "cell_type": "code",
      "source": [
        "feature_importance = pd.Series(rf.feature_importances_, index = X.columns)\n",
        "sorted_idx = np.argsort(feature_importance)\n",
        "pos = np.arange(sorted_idx.shape[0]) + .5\n",
        "plt.figure(figsize=(8,5))\n",
        "plt.barh(pos, feature_importance[sorted_idx], align=\"center\",\n",
        "         color=[\"peachpuff\", \"lightsalmon\", \"salmon\", \"palevioletred\", \"purple\", \"indigo\"])\n",
        "plt.yticks(pos, np.array(listings_preprocessed.columns)[sorted_idx])\n",
        "plt.title(\"Feature Importance\")"
      ],
      "metadata": {
        "trusted": true,
        "id": "vlZ9pZHLQjgP"
      },
      "execution_count": null,
      "outputs": []
    },
    {
      "cell_type": "code",
      "source": [
        ""
      ],
      "metadata": {
        "trusted": true,
        "id": "gz3iOABpQjgP"
      },
      "execution_count": null,
      "outputs": []
    }
  ]
}